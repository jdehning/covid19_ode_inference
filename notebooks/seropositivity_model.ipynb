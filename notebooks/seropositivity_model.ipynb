{
 "cells": [
  {
   "cell_type": "code",
   "execution_count": 1,
   "id": "3546d449-68fd-4eea-a242-d1084c554561",
   "metadata": {},
   "outputs": [
    {
     "name": "stderr",
     "output_type": "stream",
     "text": [
      "/data.nst/jdehning/mambaforge/envs/dev_env/lib/python3.11/site-packages/equinox/_ad.py:753: UserWarning: As of Equinox 0.10.7, `equinox.filter_custom_vjp.defvjp` is deprecated in favour of `.def_fwd` and `.def_bwd`. This new API supports symbolic zeros, which allow for more efficient autodifferentiation rules. In particular:\n",
      "- the fwd and bwd functions take an extra `perturbed` argument, which     indicates which primals actually need a gradient. You can use this     to skip computing the gradient for any unperturbed value. (You can     also safely just ignore this if you wish.)\n",
      "- `None` was previously passed to indicate a symbolic zero gradient for     all objects that weren't inexact arrays, but all inexact arrays     always had an array-valued gradient. Now, `None` may also be passed     to indicate that an inexact array has a symbolic zero gradient.\n",
      "  warnings.warn(\n"
     ]
    }
   ],
   "source": [
    "import sys\n",
    "\n",
    "import matplotlib.pyplot as plt\n",
    "import numpy as np\n",
    "\n",
    "import pytensor.tensor as pt\n",
    "\n",
    "import pymc as pm\n",
    "import pymc.sampling.jax\n",
    "\n",
    "import diffrax\n",
    "\n",
    "sys.path.append(\"../\")\n",
    "import covid19_ode_inference as cov19_ode"
   ]
  },
  {
   "cell_type": "code",
   "execution_count": 2,
   "id": "34586861-3895-4fd1-a813-48c08148a2a5",
   "metadata": {},
   "outputs": [],
   "source": [
    "id_func = lambda x: x\n",
    "remove_beg_end = lambda x: x[1:-1]\n",
    "data1 = np.loadtxt(\"example1.csv\", skiprows=1, delimiter=\",\", converters={0:id_func, 1:remove_beg_end, 2:remove_beg_end})\n",
    "data2 = np.loadtxt(\"example1_SIR.csv\", skiprows=1, delimiter=\",\")#, converters={0:id_func, 1:remove_beg_end, 2:remove_beg_end})\n",
    "N=100_000\n",
    "cases_data = data1[:, 2]\n",
    "t_cases_data = np.arange(len(cases_data))\n",
    "seropos_data = data2[:, 3]/N\n",
    "t_seropos_data = np.array([1,75,180])\n",
    "seropos_data_subs = seropos_data[t_seropos_data]\n",
    "len_sim = len(cases_data)\n",
    "time=t_cases_data"
   ]
  },
  {
   "cell_type": "code",
   "execution_count": 3,
   "id": "02991a66-365d-4ebc-b9da-bfe5c6b6498f",
   "metadata": {},
   "outputs": [],
   "source": [
    "model = cov19_ode.examples.model_cases_seropositivity(\n",
    "    N,\n",
    "    cases_data,\n",
    "    t_cases_data,\n",
    "    seropos_data_subs,\n",
    "    t_seropos_data=t_seropos_data,\n",
    "    sim_model=False,\n",
    "    fact_subs=8,\n",
    "    num_cps_reporting=6,\n",
    "    num_cps_R = 6,\n",
    ")"
   ]
  },
  {
   "cell_type": "code",
   "execution_count": null,
   "id": "8a5cda7c-f879-4c9b-bdb9-3a7fe5775e3a",
   "metadata": {},
   "outputs": [],
   "source": []
  },
  {
   "cell_type": "code",
   "execution_count": 4,
   "id": "e12e3310-712e-4b5f-83a6-a9b5cefbf47b",
   "metadata": {},
   "outputs": [
    {
     "name": "stderr",
     "output_type": "stream",
     "text": [
      "No GPU/TPU found, falling back to CPU. (Set TF_CPP_MIN_LOG_LEVEL=0 and rerun for more info.)\n",
      "/data.nst/jdehning/mambaforge/envs/dev_env/lib/python3.11/site-packages/jax/_src/numpy/lax_numpy.py:3662: UserWarning: 'kind' argument to argsort is ignored; only 'stable' sorts are supported.\n",
      "  warnings.warn(\"'kind' argument to argsort is ignored; only 'stable' sorts \"\n"
     ]
    },
    {
     "name": "stdout",
     "output_type": "stream",
     "text": [
      "Timing JAX compiled:\n",
      "126 µs ± 2.03 µs per loop (mean ± std. dev. of 7 runs, 10,000 loops each)\n",
      "166 µs ± 6.99 µs per loop (mean ± std. dev. of 7 runs, 10,000 loops each)\n"
     ]
    }
   ],
   "source": [
    "\n",
    "ip = model.initial_point()\n",
    "logp_fn = model.compile_fn(model.logp(sum=False), mode=\"JAX\")\n",
    "logp_fn(ip)\n",
    "dlogp_fn = model.compile_fn(model.dlogp(), mode=\"JAX\")\n",
    "dlogp_fn(ip)\n",
    "print(\"Timing JAX compiled:\")\n",
    "%timeit logp_fn(ip)\n",
    "%timeit dlogp_fn(ip)\n",
    "'''\n",
    "ip = model.initial_point()\n",
    "logp_fn = model.compile_fn(model.logp(sum=False), mode='FAST_RUN')\n",
    "logp_fn(ip)\n",
    "dlogp_fn = model.compile_fn(model.dlogp(), mode='FAST_RUN')\n",
    "dlogp_fn(ip)\n",
    "print(\"Timing C compiled:\")\n",
    "%timeit logp_fn(ip)\n",
    "%timeit dlogp_fn(ip)\n",
    "''';"
   ]
  },
  {
   "cell_type": "code",
   "execution_count": null,
   "id": "3efcadde-da77-4dbc-8cb4-157f8959afef",
   "metadata": {},
   "outputs": [],
   "source": []
  },
  {
   "cell_type": "code",
   "execution_count": null,
   "id": "05fe20ef-9bec-4c0f-b499-8c2f8785dd39",
   "metadata": {},
   "outputs": [
    {
     "name": "stderr",
     "output_type": "stream",
     "text": [
      "/data.nst/jdehning/mambaforge/envs/dev_env/lib/python3.11/site-packages/pymc/sampling/mcmc.py:273: UserWarning: Use of external NUTS sampler is still experimental\n",
      "  warnings.warn(\"Use of external NUTS sampler is still experimental\", UserWarning)\n"
     ]
    },
    {
     "name": "stdout",
     "output_type": "stream",
     "text": [
      "Compiling...\n",
      "Compilation time =  0:00:05.013089\n",
      "Sampling...\n"
     ]
    },
    {
     "name": "stderr",
     "output_type": "stream",
     "text": [
      "/data.nst/jdehning/mambaforge/envs/dev_env/lib/python3.11/site-packages/jax/_src/numpy/lax_numpy.py:3662: UserWarning: 'kind' argument to argsort is ignored; only 'stable' sorts are supported.\n",
      "  warnings.warn(\"'kind' argument to argsort is ignored; only 'stable' sorts \"\n"
     ]
    },
    {
     "data": {
      "application/vnd.jupyter.widget-view+json": {
       "model_id": "dac89fdc0b7a44bf8ec96e94dfd97813",
       "version_major": 2,
       "version_minor": 0
      },
      "text/plain": [
       "  0%|          | 0/1500 [00:00<?, ?it/s]"
      ]
     },
     "metadata": {},
     "output_type": "display_data"
    },
    {
     "data": {
      "application/vnd.jupyter.widget-view+json": {
       "model_id": "6366d26a6822456d867242790fa9af9a",
       "version_major": 2,
       "version_minor": 0
      },
      "text/plain": [
       "  0%|          | 0/1500 [00:00<?, ?it/s]"
      ]
     },
     "metadata": {},
     "output_type": "display_data"
    },
    {
     "data": {
      "application/vnd.jupyter.widget-view+json": {
       "model_id": "deffe0590646428cb6aa1024640e3a32",
       "version_major": 2,
       "version_minor": 0
      },
      "text/plain": [
       "  0%|          | 0/1500 [00:00<?, ?it/s]"
      ]
     },
     "metadata": {},
     "output_type": "display_data"
    },
    {
     "data": {
      "application/vnd.jupyter.widget-view+json": {
       "model_id": "9ef84c1991e34608bbfd9c2777e7d518",
       "version_major": 2,
       "version_minor": 0
      },
      "text/plain": [
       "  0%|          | 0/1500 [00:00<?, ?it/s]"
      ]
     },
     "metadata": {},
     "output_type": "display_data"
    }
   ],
   "source": [
    "trace = pm.sample(\n",
    "    model=model,\n",
    "    tune=500,\n",
    "    draws=1000,\n",
    "    cores=4,\n",
    "    discard_tuned_samples=False,\n",
    "    nuts_sampler=\"numpyro\",\n",
    "    target_accept=0.9,\n",
    "    nuts_sampler_kwargs=dict(\n",
    "        chain_method=\"parallel\", \n",
    "        nuts_kwargs=dict(max_tree_depth=10, \n",
    "                         step_size=1,)\n",
    "    ),\n",
    "    keep_warning_stat=True,\n",
    ")\n",
    "warnings = pm.stats.convergence.run_convergence_checks(trace,model=model,)\n",
    "pm.stats.convergence.log_warnings(warnings) "
   ]
  },
  {
   "cell_type": "code",
   "execution_count": null,
   "id": "0ead4c8e-f4cb-43e2-8cf6-60942ded4e8a",
   "metadata": {},
   "outputs": [],
   "source": [
    "values_inferred = trace.posterior[\"eta_report\"].to_numpy().reshape((-1, len_sim))\n",
    "\n",
    "plt.plot(time, np.median(values_inferred, axis=0), color=\"tab:blue\", alpha = 0.3)\n",
    "plt.fill_between(time, *np.percentile(values_inferred, q=(2.5,97.5), axis=0), color=\"tab:blue\", alpha = 0.3)\n",
    "plt.plot(data1[:, 2]/data1[:, 1], color=\"black\")"
   ]
  },
  {
   "cell_type": "code",
   "execution_count": null,
   "id": "090332fa-95d4-4c15-920f-061b959fa009",
   "metadata": {},
   "outputs": [],
   "source": [
    "new_positive_inferred = trace.posterior[\"Sero_t\"].to_numpy().reshape((-1, len_sim))\n",
    "\n",
    "plt.fill_between(time, *np.percentile(new_positive_inferred, q=(2.5,97.5), axis=0), color=\"tab:blue\", alpha = 0.3)\n",
    "plt.plot(time, np.median(new_positive_inferred, axis=0), color=\"tab:blue\", alpha = 0.3)\n",
    "plt.plot(seropos_data, marker=\"d\", color=\"black\", ls=\"\", ms=3, alpha=0.4);\n",
    "plt.plot(t_seropos_data, seropos_data[t_seropos_data], marker=\"d\", color=\"black\", ls=\"\", ms=7);\n",
    "\n"
   ]
  },
  {
   "cell_type": "code",
   "execution_count": null,
   "id": "ba59e6b0-57fc-4e76-9a66-ed80f8ad34b5",
   "metadata": {},
   "outputs": [],
   "source": [
    "f, axes = plt.subplots(3,1, figsize = (10,6))\n",
    "t_solve_ODE = model.coords[\"t_solve_ODE\"]\n",
    "f.sca(axes[0])\n",
    "plt.plot(t_solve_ODE, trace.posterior[\"beta_t\"].to_numpy().reshape((-1, len(t_solve_ODE))).T, color=\"tab:blue\", alpha = 0.02);\n",
    "plt.ylim(0,0.3)\n",
    "f.sca(axes[1])\n",
    "plt.plot(trace.posterior[\"new_reported\"].to_numpy().reshape((-1, len_sim)).T, color=\"tab:blue\", alpha = 0.02);\n",
    "plt.plot(cases_data, marker=\"d\", color=\"black\", ls=\"\", ms=3);\n",
    "f.sca(axes[2])\n",
    "\n",
    "new_positive_inferred = trace.posterior[\"new_positive\"].to_numpy().reshape((-1, len_sim))\n",
    "plt.plot(time, np.median(new_positive_inferred, axis=0), color=\"tab:blue\", alpha = 0.3)\n",
    "plt.fill_between(time, *np.percentile(new_positive_inferred, q=(2.5,97.5), axis=0), color=\"tab:blue\", alpha = 0.3)\n",
    "plt.plot(cases_data, marker=\"d\", color=\"black\", ls=\"\", ms=3);\n",
    "\n"
   ]
  },
  {
   "cell_type": "code",
   "execution_count": null,
   "id": "e96a29b8-2872-4064-8e55-4acd330494fa",
   "metadata": {},
   "outputs": [],
   "source": [
    "plt.plot(trace.sample_stats[\"lp\"].T)"
   ]
  },
  {
   "cell_type": "code",
   "execution_count": null,
   "id": "668011b5-3026-4d08-aebf-2fecc22fee2a",
   "metadata": {},
   "outputs": [],
   "source": []
  }
 ],
 "metadata": {
  "kernelspec": {
   "display_name": "Python 3 (ipykernel)",
   "language": "python",
   "name": "python3"
  },
  "language_info": {
   "codemirror_mode": {
    "name": "ipython",
    "version": 3
   },
   "file_extension": ".py",
   "mimetype": "text/x-python",
   "name": "python",
   "nbconvert_exporter": "python",
   "pygments_lexer": "ipython3",
   "version": "3.11.4"
  }
 },
 "nbformat": 4,
 "nbformat_minor": 5
}
