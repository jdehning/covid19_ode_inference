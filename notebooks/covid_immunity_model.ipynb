{
 "cells": [
  {
   "cell_type": "code",
   "execution_count": 1,
   "id": "f09f6610-4a8b-49fd-884d-79d1859045b6",
   "metadata": {
    "pycharm": {
     "name": "#%%\n"
    }
   },
   "outputs": [
    {
     "name": "stderr",
     "output_type": "stream",
     "text": [
      "/home/jdehning/mambaforge/envs/dev_env/lib/python3.11/site-packages/equinox/_ad.py:733: UserWarning: As of Equinox 0.10.7, `equinox.filter_custom_vjp.defvjp` is deprecated in favour of `.def_fwd` and `.def_bwd`. This new API supports symbolic zeros, which allow for more efficient autodifferentiation rules. In particular:\n",
      "- the fwd and bwd functions take an extra `perturbed` argument, which     indicates which primals actually need a gradient. You can use this     to skip computing the gradient for any unperturbed value. (You can     also safely just ignore this if you wish.)\n",
      "- `None` was previously passed to indicate a symbolic zero gradient for     all objects that weren't inexact arrays, but all inexact arrays     always had an array-valued gradient. Now, `None` may also be passed     to indicate that an inexact array has a symbolic zero gradient.\n",
      "  warnings.warn(\n"
     ]
    }
   ],
   "source": [
    "import sys\n",
    "\n",
    "import diffrax\n",
    "import jax\n",
    "import jax.numpy as jnp\n",
    "import numpy as np\n",
    "from pytensor.tensor.type import TensorType\n",
    "import graphviz\n",
    "import matplotlib.pyplot as plt\n",
    "\n",
    "sys.path.append(\"../\")\n",
    "import covid19_ode_inference as cov19_ode"
   ]
  },
  {
   "cell_type": "code",
   "execution_count": 2,
   "id": "2f46c7b2-ec1f-4818-8814-a6c6eecf2045",
   "metadata": {
    "pycharm": {
     "name": "#%%\n"
    }
   },
   "outputs": [],
   "source": [
    "def covid_model(t, y, arg):\n",
    "    comp_model = cov19_ode.CompModel(y)\n",
    "    dy = {}\n",
    "\n",
    "    # Effective spreading\n",
    "    dy[\"hs\"] = cov19_ode.delayed_copy(y[\"H\"], y[\"hs\"], arg[\"tau\"])\n",
    "    h = y[\"hs\"][-1]\n",
    "    mitigation = arg[\"m_max\"] - arg[\"m_max\"] / arg[\"h_thres\"] * arg[\n",
    "        \"epsilon\"\n",
    "    ] * jax.nn.softplus(1 / arg[\"epsilon\"] * (arg[\"h_thres\"] - h))\n",
    "    seasonality = 1 + arg[\"a\"] * jnp.cos(arg[\"omega_s\"] * t)\n",
    "\n",
    "    eff_spreading = arg[\"beta_0\"] * (1 - mitigation) * seasonality\n",
    "\n",
    "    # vaccination\n",
    "    comp_model.flow(\"S\", \"V\", arg[\"phi\"], \"phi\")\n",
    "    comp_model.flow(\"SW\", \"V\", arg[\"phi\"], \"phi\")\n",
    "    # contagion\n",
    "    contagion_factor = eff_spreading * (\n",
    "        y[\"Ia\"] + y[\"Is\"] + arg[\"eta\"] * (y[\"IWa\"] + y[\"IWs\"])\n",
    "    )\n",
    "    comp_model.flow(\n",
    "        \"S\",\n",
    "        \"E\",\n",
    "        contagion_factor,\n",
    "        r\"beta * (Ia + Is + eta * (IWa + IWs))\",\n",
    "    )\n",
    "    comp_model.flow(\n",
    "        \"SW\",\n",
    "        \"EW\",\n",
    "        contagion_factor,\n",
    "        \"beta * (Ia + Is + eta * (IWa + IWs))\",\n",
    "    )\n",
    "\n",
    "    # waning immunity\n",
    "    comp_model.flow(\"SW\", \"S\", arg[\"omega_w\"], \"omega_w\")\n",
    "    comp_model.flow(\"V\", \"SW\", arg[\"omega_v\"], \"omega_v\")\n",
    "    comp_model.flow(\"R\", \"SW\", arg[\"omega_r\"], \"omega_r\")\n",
    "\n",
    "    # infection progression E -> I\n",
    "    comp_model.flow(\"E\", \"Is\", arg[\"rho\"] * arg[\"xi\"], \"rho * xi\")\n",
    "    comp_model.flow(\"E\", \"Ia\", arg[\"rho\"] * (1 - arg[\"xi\"]), \"rho * (1 - xi)\")\n",
    "    comp_model.flow(\n",
    "        \"EW\",\n",
    "        \"IWs\",\n",
    "        arg[\"rho\"] * arg[\"eta\"] * arg[\"xi\"],\n",
    "        \"rho * eta * xi\",\n",
    "    )\n",
    "    comp_model.flow(\n",
    "        \"EW\",\n",
    "        \"IWa\",\n",
    "        arg[\"rho\"] * (1 - arg[\"xi\"] * arg[\"eta\"]),\n",
    "        \"rho * (1 - xi * eta)\",\n",
    "    )\n",
    "\n",
    "    # Testing\n",
    "    comp_model.flow(\n",
    "        \"Is\", \"Ts\", arg[\"lambda_s\"] + arg[\"lambda_r\"], \"lambda_s + lambda_r\"\n",
    "    )\n",
    "    comp_model.flow(\"Ia\", \"Ta\", arg[\"lambda_r\"], \"lambda_r\")\n",
    "    comp_model.flow(\n",
    "        \"IWs\", \"TWs\", arg[\"lambda_s\"] + arg[\"lambda_r\"], \"lambda_s + lambda_r\"\n",
    "    )\n",
    "    comp_model.flow(\"IWa\", \"TWa\", arg[\"lambda_r\"], \"lambda_r\")\n",
    "\n",
    "    # Hospitalization\n",
    "    comp_model.flow(\"Is\", \"H\", arg[\"delta\"], \"delta\")\n",
    "    comp_model.flow(\"IWs\", \"H\", arg[\"eta\"] * arg[\"delta\"], \"eta * delta\")\n",
    "    comp_model.flow(\"Ts\", \"H\", arg[\"delta_star\"], \"delta_star\")\n",
    "    comp_model.flow(\"TWs\", \"H\", arg[\"eta\"] * arg[\"delta_star\"], \"eta * delta_star\")\n",
    "\n",
    "    # Death\n",
    "    comp_model.flow(\"H\", \"D\", arg[\"alpha\"], \"alpha\")\n",
    "\n",
    "    # Recovery\n",
    "    comp_model.flow([\"Is\", \"IWs\", \"Ia\", \"IWa\"], \"R\", arg[\"gamma\"], \"gamma\")\n",
    "    comp_model.flow([\"Ts\", \"TWs\", \"Ta\", \"TWa\"], \"R\", arg[\"gamma_star\"], \"gamma_star\")\n",
    "    comp_model.flow(\"H\", \"R\", arg[\"gamma_H\"], \"gamma_H\")\n",
    "    dy.update(comp_model.dy)\n",
    "    #comp_model.view_graph()\n",
    "    return dy"
   ]
  },
  {
   "cell_type": "code",
   "execution_count": 3,
   "id": "42b19a68-18ad-4181-a824-722cc0664105",
   "metadata": {
    "pycharm": {
     "name": "#%%\n"
    }
   },
   "outputs": [
    {
     "name": "stderr",
     "output_type": "stream",
     "text": [
      "No GPU/TPU found, falling back to CPU. (Set TF_CPP_MIN_LOG_LEVEL=0 and rerun for more info.)\n"
     ]
    },
    {
     "data": {
      "text/plain": [
       "<matplotlib.legend.Legend at 0x7fc6b7ea9690>"
      ]
     },
     "execution_count": 3,
     "metadata": {},
     "output_type": "execute_result"
    },
    {
     "data": {
      "image/png": "[encoded data removed]",
      "text/plain": [
       "<Figure size 640x480 with 1 Axes>"
      ]
     },
     "metadata": {},
     "output_type": "display_data"
    }
   ],
   "source": [
    "\n",
    "len_sim = 365\n",
    "\n",
    "num_points = 365\n",
    "\n",
    "num_age_groups = 6\n",
    "N = 1e6\n",
    "\n",
    "t_out = np.linspace(0, len_sim, num_points)\n",
    "t_solve_ODE = np.linspace(0, len_sim, num_points//2)\n",
    "t_beta = np.linspace(0, len_sim, num_points)\n",
    "\n",
    "\n",
    "\n",
    "integrator = cov19_ode.CompModelsIntegrator(\n",
    "    ts_out=t_out,\n",
    "    t_0=min(t_out),\n",
    "    ts_solver=t_solve_ODE,#diffrax.PIDController(rtol=1e-2, atol=1e-3),\n",
    "    interp=\"cubic\",\n",
    "    #solver=diffrax.Kvaerno5(nonlinear_solver=diffrax.NewtonNonlinearSolver(rtol=1e-2, atol=1e-4)),  \n",
    "    solver=diffrax.Tsit5(),\n",
    "    #adjoint=diffrax.RecursiveCheckpointAdjoint(checkpoints=len(t_solve_ODE)),\n",
    ").get_func(covid_model)\n",
    "\n",
    "@jax.jit\n",
    "def simulation(x):\n",
    "    \n",
    "    y0 = {\n",
    "        \"V\": 1000 / N,\n",
    "        \"SW\": 500_000 / N,\n",
    "        \"E\": 100 / N,\n",
    "        \"EW\": 500 / N,\n",
    "        \"Is\": 100 / N,\n",
    "        \"Ia\": 100 / N,\n",
    "        \"IWs\": 100 / N,\n",
    "        \"IWa\": 100 / N,\n",
    "        \"Ts\": 0,\n",
    "        \"Ta\": 0,\n",
    "        \"TWs\": 0,\n",
    "        \"TWa\": 0,\n",
    "        \"H\": 0,\n",
    "        \"D\": 0,\n",
    "        \"R\": 0,\n",
    "        \"hs\": [0, 0],\n",
    "    }\n",
    "    y0[\"S\"] = 1 - jax.tree_util.tree_reduce(lambda x, y: x + y, y0)\n",
    "    y0 = jax.tree_map(lambda x: np.ones(num_age_groups)*x, y0)\n",
    "\n",
    "    \n",
    "    output = integrator(\n",
    "        y0=y0, constant_args=x\n",
    "    )\n",
    "\n",
    "    return output\n",
    "\n",
    "arg = {\n",
    "    \"beta_0\": 0.5,\n",
    "    \"phi\": 50 / N * np.array([0, 0, 0, 1, 1, 1]) / 6,  # vaccination rate\n",
    "    \"gamma\": np.array([0.1, 0.1, 0.1, 0.09, 0.09, 0.09]),  # recovery rate\n",
    "    \"gamma_star\": np.array(\n",
    "        [0.1, 0.1, 0.1, 0.09, 0.09, 0.09]\n",
    "    ),  # recovery rate from traced pool\n",
    "    \"gamma_H\": np.array(\n",
    "        [0.194, 0.192, 0.0847, 0.0814, 0.0914, 0.0842]\n",
    "    ),  # recovery rate from hospitalization\n",
    "    \"delta\": np.array(\n",
    "        [1.4e-5, 2.04e-4, 1.22e-3, 4.03e-3, 5.44e-3, 7.16e-3]\n",
    "    ),  # hospitalization rate\n",
    "    \"delta_star\": np.array(\n",
    "        [1.4e-5, 2.04e-4, 1.22e-3, 4.03e-3, 5.44e-3, 7.16e-3]\n",
    "    ),  # hospitalization rate from traced pool, same as delta?\n",
    "    \"alpha\": np.array(\n",
    "        [0.005560, 0.007780, 0.006164, 0.009508, 0.019756, 0.082433]\n",
    "    ),  # death rate from hospitalization\n",
    "    \"xi\": np.array([0.75, 1, 1, 1.1, 1.1, 1.2])\n",
    "    * 0.68,  # symptomatic ratio of infections\n",
    "    \"lambda_s\": np.array(\n",
    "        [0.15, 0.25, 0.25, 0.4, 0.3, 0.3]\n",
    "    ),  # rate of testing and self-isolating (symptomatic),\n",
    "    \"lambda_r\": np.zeros(num_age_groups),  # rate of testing and self-isolating (random)\n",
    "    \"eta\": np.ones(num_age_groups) / 3,  # antibody protection against severe course\n",
    "    \"omega_r\": np.ones(num_age_groups)\n",
    "    / 180,  # rate of waning (natural) immunity against infection\n",
    "    \"omega_v\": np.ones(num_age_groups)\n",
    "    / 180,  # rate of waning (vaccine) immunity against infection\n",
    "    \"omega_w\": np.ones(num_age_groups)\n",
    "    / 180,  # rate of waning (both) immunity against severe course\n",
    "    \"rho\": np.ones(num_age_groups) * 0.25,  # transition rate from E to I\n",
    "    \"tau\": np.ones(num_age_groups) * 60,  # mitigation delay\n",
    "    \"m_max\": np.ones(num_age_groups) * 0.2,  # maximum mitigation\n",
    "    \"h_thres\": np.ones(num_age_groups) * 5e-5,  # threshold hazard\n",
    "    \"a\": 0.2,  # seasonal amplitude\n",
    "    \"omega_s\": 2 * np.pi / 365,  # seasonal frequency\n",
    "    \"epsilon\": 1 / 4000,  # feedback curvature\n",
    "}\n",
    "def tot_death(x):\n",
    "    return jnp.sum(simulation(x)['D'][-1])\n",
    "\n",
    "output = simulation(arg)\n",
    "plt.plot(output[\"E\"], color='tab:blue', label=\"E\")\n",
    "plt.plot(output[\"EW\"], color='tab:orange', label=\"EW\")\n",
    "plt.xlabel('Time')\n",
    "plt.ylabel('People')\n",
    "plt.legend()"
   ]
  },
  {
   "cell_type": "code",
   "execution_count": 4,
   "id": "0920998f-eed9-4c58-9886-8ce3308cbc51",
   "metadata": {
    "pycharm": {
     "name": "#%%\n"
    }
   },
   "outputs": [
    {
     "name": "stdout",
     "output_type": "stream",
     "text": [
      "2.66 ms ± 41.3 µs per loop (mean ± std. dev. of 7 runs, 100 loops each)\n"
     ]
    }
   ],
   "source": [
    "# Time\n",
    "\n",
    "%timeit simulation(arg)[\"E\"].block_until_ready()\n"
   ]
  },
  {
   "cell_type": "code",
   "execution_count": 5,
   "id": "c49cebbb-1c32-4ca1-8d83-191b680b058d",
   "metadata": {
    "pycharm": {
     "name": "#%%\n"
    }
   },
   "outputs": [
    {
     "name": "stdout",
     "output_type": "stream",
     "text": [
      "18.3 ms ± 2.27 ms per loop (mean ± std. dev. of 7 runs, 1 loop each)\n"
     ]
    }
   ],
   "source": [
    "\n",
    "grad = jax.jit(jax.grad(tot_death))\n",
    "%timeit grad(arg)[\"beta_0\"].block_until_ready()\n"
   ]
  },
  {
   "cell_type": "code",
   "execution_count": null,
   "id": "28372ace-f542-440a-b213-2aef20ea8e0e",
   "metadata": {
    "pycharm": {
     "name": "#%%\n"
    }
   },
   "outputs": [],
   "source": []
  },
  {
   "cell_type": "code",
   "execution_count": null,
   "id": "fce98f7d-1f9c-4d16-832e-b1db755a5b19",
   "metadata": {
    "pycharm": {
     "name": "#%%\n"
    }
   },
   "outputs": [],
   "source": []
  },
  {
   "cell_type": "code",
   "execution_count": null,
   "id": "b11ce37b-0d3f-4d1a-a5b1-9066392a0e23",
   "metadata": {
    "pycharm": {
     "name": "#%%\n"
    }
   },
   "outputs": [],
   "source": []
  }
 ],
 "metadata": {
  "kernelspec": {
   "display_name": "dev_env",
   "language": "python",
   "name": "dev_env"
  },
  "language_info": {
   "codemirror_mode": {
    "name": "ipython",
    "version": 3
   },
   "file_extension": ".py",
   "mimetype": "text/x-python",
   "name": "python",
   "nbconvert_exporter": "python",
   "pygments_lexer": "ipython3",
   "version": "3.11.4"
  }
 },
 "nbformat": 4,
 "nbformat_minor": 5
}